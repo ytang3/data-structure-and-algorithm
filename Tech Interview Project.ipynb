{
 "cells": [
  {
   "cell_type": "markdown",
   "metadata": {},
   "source": [
    "# Technical Questions by Yiyi Tang"
   ]
  },
  {
   "cell_type": "markdown",
   "metadata": {},
   "source": [
    "## Question 1\n",
    "Given two strings s and t, determine whether some anagram of t is a substring of s. For example: if s = \"udacity\" and t = \"ad\", then the function returns True. Your function definition should look like: question1(s, t) and return a boolean True or False."
   ]
  },
  {
   "cell_type": "code",
   "execution_count": 156,
   "metadata": {
    "collapsed": true
   },
   "outputs": [],
   "source": [
    "from itertools import permutations"
   ]
  },
  {
   "cell_type": "code",
   "execution_count": 154,
   "metadata": {
    "collapsed": true
   },
   "outputs": [],
   "source": [
    "def question1(s,t):\n",
    "    if len(t) > len(s):\n",
    "        return False\n",
    "    elif s =='' or t =='':\n",
    "        return False\n",
    "    else:\n",
    "        perms = [''.join(p) for p in permutations(t)]\n",
    "        #print perms\n",
    "        for l in perms:\n",
    "            if l in s:\n",
    "                return True\n",
    "        return False"
   ]
  },
  {
   "cell_type": "code",
   "execution_count": 155,
   "metadata": {},
   "outputs": [
    {
     "name": "stdout",
     "output_type": "stream",
     "text": [
      "False\n",
      "True\n",
      "False\n"
     ]
    }
   ],
   "source": [
    "# Test cases:\n",
    "print question1('udacity','dy')\n",
    "print question1('python','ht')\n",
    "print question1('red','read')\n",
    "\n",
    "# Expected results:\n",
    "## False\n",
    "## True\n",
    "## False"
   ]
  },
  {
   "cell_type": "markdown",
   "metadata": {},
   "source": [
    "For this question, we want to see if the re-arrangement strings of t is a substring of s. So I decided to first check if the length of t is smaller than s or if s / t is null. After excluding these situations, I made a new list called 'perms' storing all possible permutations of t. Finally, I checked if strings in 'perms' are in s. This method costs more space because it generated a new list, and the size of this list depends on the length of t. The worst case for this solution is that the length of t is equal to s. So the efficiency is O(n!) and space is O(1). Because checking all permutations is the major part costing efficiency, and 'n!' is the number of permutations in the worst case.  "
   ]
  },
  {
   "cell_type": "markdown",
   "metadata": {},
   "source": [
    "## Question 2\n",
    "Given a string a, find the longest palindromic substring contained in a. Your function definition should look like question2(a), and return a string."
   ]
  },
  {
   "cell_type": "code",
   "execution_count": 217,
   "metadata": {
    "collapsed": true
   },
   "outputs": [],
   "source": [
    "def question2(a):\n",
    "    results = []\n",
    "    maxlength = 0\n",
    "\n",
    "    for i in range(len(a)):\n",
    "        for j in range(0, i):\n",
    "            chunk = a[j:i + 1]\n",
    "            #print 'chunk',chunk\n",
    "\n",
    "            if chunk == chunk[::-1]:\n",
    "                results.append(chunk)\n",
    "                \n",
    "                \n",
    "    if results == []:\n",
    "        return None\n",
    "    else:\n",
    "        for r in results:\n",
    "            if len(r) >= maxlength:\n",
    "                maxlength = len(r)\n",
    "                maxpla = r\n",
    "       \n",
    "    return maxpla"
   ]
  },
  {
   "cell_type": "code",
   "execution_count": 218,
   "metadata": {},
   "outputs": [
    {
     "name": "stdout",
     "output_type": "stream",
     "text": [
      "baab\n",
      "redivider\n",
      "None\n"
     ]
    }
   ],
   "source": [
    "# Test cases:\n",
    "print question2('abaab')\n",
    "print question2('redivider')\n",
    "print question2('red')\n",
    "\n",
    "# Expected results:\n",
    "## 'baab'\n",
    "## 'redivider'\n",
    "## 'None'"
   ]
  },
  {
   "cell_type": "markdown",
   "metadata": {},
   "source": [
    "For this question, we want to find the longest palindromic substring contained in string a. My solution is to loop through each possible combination of chunks in the string. The goal is to check if the chunk equals to its reversive version. The efficiency of my method is O(2n). This solution generated a new list named 'results', so Space = O(1)."
   ]
  },
  {
   "cell_type": "code",
   "execution_count": 560,
   "metadata": {
    "collapsed": true
   },
   "outputs": [],
   "source": [
    "a = defaultdict()"
   ]
  },
  {
   "cell_type": "markdown",
   "metadata": {},
   "source": [
    "## Question 3\n",
    "Given an undirected graph G, find the minimum spanning tree within G. A minimum spanning tree connects all vertices in a graph with the smallest possible total weight of edges. Your function should take in and return an adjacency list structured like this:\n",
    "\n",
    "{'A': [('B', 2)],\n",
    "\n",
    " 'B': [('A', 2), ('C', 5)],\n",
    " \n",
    " 'C': [('B', 5)]}\n",
    " \n",
    "Vertices are represented as unique strings. The function definition should be question3(G)"
   ]
  },
  {
   "cell_type": "code",
   "execution_count": 939,
   "metadata": {
    "collapsed": true
   },
   "outputs": [],
   "source": [
    "def get_edge_list(G):\n",
    "    edge_list = []\n",
    "    for n in G:\n",
    "        #print n\n",
    "        for element in G[n]:\n",
    "            edge = (element[1], element[0], n)\n",
    "            edge_list.append(edge)\n",
    "            \n",
    "    edge_list = sorted(edge_list, key=lambda item: item[0])\n",
    "    \n",
    "    edge_final = []\n",
    "    \n",
    "    for j in range(len(edge_list)):\n",
    "        if j % 2 != 0:\n",
    "            edge_final.append(edge_list[j])\n",
    "    \n",
    "    return edge_final\n",
    "\n",
    "# A utility function to find the subset of an element i\n",
    "def find_parent(parent,n):\n",
    "        if parent[n] == n:\n",
    "            return n\n",
    "        else:\n",
    "            return find_parent(parent,parent[n])\n",
    "\n",
    "# A utility function to do union of two subsets  \n",
    "def union(parent,x,y):\n",
    "        x_set = find_parent(parent, x)\n",
    "        y_set = find_parent(parent, y)\n",
    "        parent[x_set] = y_set"
   ]
  },
  {
   "cell_type": "code",
   "execution_count": 946,
   "metadata": {
    "collapsed": true
   },
   "outputs": [],
   "source": [
    "def question3(G):\n",
    "    \n",
    "    if type(G) != dict:\n",
    "        return \"Error: G is not dictionary!\"\n",
    "    elif G =={}:\n",
    "        return None\n",
    "    \n",
    "    nodes = []\n",
    "    edges = set()\n",
    "    \n",
    "    parent ={}\n",
    "    \n",
    "    MST = [] #Store edges in the minimum spanning tree, discarding edges which will result in cycles\n",
    "    \n",
    "    i = 0 # An index variable, used for sorted edges\n",
    "    e = 0 # An index variable, used for MST[]\n",
    "    \n",
    "    for node in G.keys(): #Add notes\n",
    "        nodes.append(node)\n",
    "       \n",
    "    #Step 1: Sort edges   \n",
    "    edges = get_edge_list(G) #Sort edges list into this: [(2, 'A', 'B'), (5, 'C', 'B'), ...].\n",
    "    \n",
    "    #Set up inital parent list. \n",
    "    for n in nodes:\n",
    "        parent[n]=n #Assume every node in G is in its subset and is its parent.\n",
    "                    #It should look like this: {'A': 'A', 'C': 'C', 'B': 'B'}\n",
    "    \n",
    "    # Number of edges to be taken is equal to number of nodes minus 1\n",
    "    while e < len(nodes) -1 :\n",
    "        \n",
    "        w,u,v = edges[i]\n",
    "        i = i+1\n",
    "        x = find_parent(parent, u)\n",
    "        y = find_parent(parent, v)\n",
    "        \n",
    "        if x != y:\n",
    "            e = e+1\n",
    "            MST.append([w,u,v])\n",
    "            union(parent, x, y)\n",
    "    \n",
    "    output_graph = {}\n",
    "    \n",
    "    for j in MST:\n",
    "        if j[1] in output_graph:\n",
    "            output_graph[j[1]].append((j[2], j[0]))\n",
    "        else:\n",
    "            output_graph[j[1]] = [(j[2], j[0])]\n",
    "    \n",
    "        if j[2] in output_graph:\n",
    "            output_graph[j[2]].append((j[1], j[0]))\n",
    "        else:\n",
    "            output_graph[j[2]] = [(j[1], j[0])]\n",
    "            \n",
    "    return output_graph      "
   ]
  },
  {
   "cell_type": "code",
   "execution_count": 947,
   "metadata": {},
   "outputs": [
    {
     "name": "stdout",
     "output_type": "stream",
     "text": [
      "{'A': [('B', 2)], 'C': [('B', 5)], 'B': [('A', 2), ('C', 5)]}\n"
     ]
    }
   ],
   "source": [
    "# Test case 1:\n",
    "G = {'A': [('B',2)],\n",
    "     'B': [('A',2), ('C',5)],\n",
    "     'C': [('B',5)]}\n",
    "\n",
    "print question3(G)\n",
    "# Expected result 1:\n",
    "## {'A': [('B', 2)], 'C': [('B', 5)], 'B': [('A', 2), ('C', 5)]}"
   ]
  },
  {
   "cell_type": "code",
   "execution_count": 948,
   "metadata": {},
   "outputs": [
    {
     "name": "stdout",
     "output_type": "stream",
     "text": [
      "{'A': [('D', 1), ('B', 4)], 'C': [('D', 2)], 'B': [('A', 4)], 'D': [('A', 1), ('C', 2)]}\n"
     ]
    }
   ],
   "source": [
    "# Test case 2:\n",
    "G = {'A': [('B',4), ('C',3), ('D',1)],\n",
    "     'B': [('A',4), ('C',5)],\n",
    "     'C': [('A',3), ('B',5), ('D',2)],\n",
    "     'D': [('A',1), ('C',2)]}\n",
    "print question3(G)\n",
    "# Expected result 2:\n",
    "## {'A': [('D', 1), ('B', 4)], 'C': [('D', 2)], 'B': [('A', 4)], 'D': [('A', 1), ('C', 2)]}"
   ]
  },
  {
   "cell_type": "code",
   "execution_count": 936,
   "metadata": {},
   "outputs": [
    {
     "name": "stdout",
     "output_type": "stream",
     "text": [
      "{'A': [('D', 1), ('B', 4)], 'C': [('D', 2)], 'B': [('A', 4)], 'D': [('A', 1), ('C', 2)]}\n"
     ]
    }
   ],
   "source": [
    "print question3(G)"
   ]
  },
  {
   "cell_type": "code",
   "execution_count": 949,
   "metadata": {},
   "outputs": [
    {
     "name": "stdout",
     "output_type": "stream",
     "text": [
      "None\n"
     ]
    }
   ],
   "source": [
    "# Test case 3:\n",
    "G = {}\n",
    "\n",
    "print question3(G)"
   ]
  },
  {
   "cell_type": "markdown",
   "metadata": {},
   "source": [
    "For this question, I first sorted all edges, nodes from the input dictionary graph. Then I assumed every nodes is in its subset and it is its parent in the subset. Then I used Union-Find algorithm to union edges starting from the smallest weight edge. This solution uses Kruskal’s algorithm. Most time-consuming operation is sorting because the total complexity of the Disjoint-Set operations will be O(ElogV)."
   ]
  },
  {
   "cell_type": "markdown",
   "metadata": {},
   "source": [
    "## Question 4\n",
    "Find the least common ancestor between two nodes on a binary search tree. The least common ancestor is the farthest node from the root that is an ancestor of both nodes. For example, the root is a common ancestor of all nodes on the tree, but if both nodes are descendents of the root's left child, then that left child might be the lowest common ancestor. You can assume that both nodes are in the tree, and the tree itself adheres to all BST properties. The function definition should look like question4(T, r, n1, n2), where T is the tree represented as a matrix, where the index of the list is equal to the integer stored in that node and a 1 represents a child node, r is a non-negative integer representing the root, and n1 and n2 are non-negative integers representing the two nodes in no particular order. For example, one test case might be\n",
    "\n",
    "\n",
    "\n",
    "    question4([[0, 1, 0, 0, 0],\n",
    "               [0, 0, 0, 0, 0],          \n",
    "               [0, 0, 0, 0, 0],          \n",
    "               [1, 0, 0, 0, 1],\n",
    "               [0, 0, 0, 0, 0]],\n",
    "              3,\n",
    "              1,\n",
    "              4)\n",
    "          \n",
    "and the answer would be 3."
   ]
  },
  {
   "cell_type": "code",
   "execution_count": 1312,
   "metadata": {
    "collapsed": true
   },
   "outputs": [],
   "source": [
    "class Node(object):\n",
    "    def __init__(self, value):\n",
    "        self.value = value\n",
    "        self.left = None\n",
    "        self.right = None   \n",
    "\n",
    "\n",
    "class BST(object):\n",
    "    def __init__(self, root):\n",
    "        self.root = Node(root)\n",
    "        \n",
    "    def insert(self, new_val):\n",
    "        self.insert_helper(self.root, new_val)\n",
    "\n",
    "    def insert_helper(self, current, new_val):\n",
    "        if current.value < new_val:\n",
    "            if current.right:\n",
    "                self.insert_helper(current.right, new_val)\n",
    "            else:\n",
    "                current.right = Node(new_val)\n",
    "        else:\n",
    "            if current.left:\n",
    "                self.insert_helper(current.left, new_val)\n",
    "            else:\n",
    "                current.left = Node(new_val)\n",
    "    "
   ]
  },
  {
   "cell_type": "code",
   "execution_count": 1313,
   "metadata": {
    "collapsed": true
   },
   "outputs": [],
   "source": [
    "#Question 4\n",
    "def question4(T, r, n1, n2):\n",
    "\n",
    "    if r > len(T[0]):\n",
    "        return None\n",
    "    \n",
    "    tree = {}\n",
    "    \n",
    "    for i in range(len(T)):\n",
    "        for j in range(len(T)):\n",
    "            if T[i][j] == 1:\n",
    "                if str(i) not in tree:\n",
    "                    tree[str(i)] = [j]\n",
    "                else:\n",
    "                    tree[str(i)].append(j)\n",
    "    #print tree, look like this {'0': [1], '3': [0, 4]}\n",
    "    \n",
    "    t = BST(r)\n",
    "    \n",
    "    for key in tree:\n",
    "        t.insert(int(key))\n",
    "        for n in tree[key]:\n",
    "            t.insert(n)\n",
    "            \n",
    "    current_node = t.root\n",
    "    while current_node.left != None or current_node.right != None:\n",
    "        \n",
    "        if current_node.value > n1 and current_node.value > n2:\n",
    "            current_node = current_node.left\n",
    "            \n",
    "        elif current_node.value < n1 and current_node.value < n2:\n",
    "            current_node = current_node.right\n",
    "            \n",
    "        else:\n",
    "            return current_node.value\n",
    "\n",
    "    return current_node.value"
   ]
  },
  {
   "cell_type": "code",
   "execution_count": 1314,
   "metadata": {},
   "outputs": [
    {
     "name": "stdout",
     "output_type": "stream",
     "text": [
      "0\n"
     ]
    }
   ],
   "source": [
    "# Test cases 1:\n",
    "print question4([[0, 1, 0, 0, 0],\n",
    "                 [0, 0, 0, 0, 0],\n",
    "                 [0, 0, 0, 0, 0],\n",
    "                 [1, 0, 0, 0, 1],\n",
    "                 [0, 0, 0, 0, 0]],\n",
    "                3,\n",
    "                1,\n",
    "                0)\n",
    "# Expected result:\n",
    "## 0"
   ]
  },
  {
   "cell_type": "code",
   "execution_count": 1315,
   "metadata": {},
   "outputs": [
    {
     "name": "stdout",
     "output_type": "stream",
     "text": [
      "3\n"
     ]
    }
   ],
   "source": [
    "# Test cases 2:\n",
    "print question4([[0, 1, 0, 0, 0],\n",
    "                 [0, 0, 0, 0, 0],\n",
    "                 [0, 0, 0, 0, 0],\n",
    "                 [1, 0, 0, 0, 1],\n",
    "                 [0, 0, 0, 0, 0]],\n",
    "                3,\n",
    "                1,\n",
    "                4)\n",
    "# Expected reuslt:\n",
    "## 3"
   ]
  },
  {
   "cell_type": "code",
   "execution_count": 1311,
   "metadata": {},
   "outputs": [
    {
     "name": "stdout",
     "output_type": "stream",
     "text": [
      "1\n"
     ]
    }
   ],
   "source": [
    "# Test cases 3:\n",
    "print question4([[0, 1, 0, 0, 0],\n",
    "                 [0, 0, 0, 0, 0],\n",
    "                 [0, 0, 0, 0, 0],\n",
    "                 [1, 0, 0, 0, 1],\n",
    "                 [0, 0, 0, 0, 0]],\n",
    "                1,\n",
    "                4,\n",
    "                0)\n",
    "# Expected reuslt:\n",
    "## 1"
   ]
  },
  {
   "cell_type": "markdown",
   "metadata": {},
   "source": [
    "For this question, I first transformed the input matrix into dictionary. It stored child nodes as the value and the parent of the child as the key in the dictionary. Then I build a binary tree, and insert these nodes into the tree. Finally, by comparing the value of given r, n1 and n2, I searched the tree from top to the bottom until the value of 'current_node' is between n1 and n2.\n",
    "\n",
    "For this solution, the worst case would be that I search the nodes all the way down following the height of the tree. So the time efficiency would be O(H), which H represents the height of the tree. "
   ]
  },
  {
   "cell_type": "markdown",
   "metadata": {},
   "source": [
    "## Question 5\n",
    "Find the element in a singly linked list that's m elements from the end. For example, if a linked list has 5 elements, the 3rd element from the end is the 3rd element. The function definition should look like question5(ll, m), where ll is the first node of a linked list and m is the \"mth number from the end\". You should copy/paste the Node class below to use as a representation of a node in the linked list. Return the value of the node at that position.\n",
    "\n",
    "    class Node(object):\n",
    "\n",
    "      def __init__(self, data):\n",
    "  \n",
    "         self.data = data\n",
    "    \n",
    "         self.next = None\n",
    "    "
   ]
  },
  {
   "cell_type": "code",
   "execution_count": 321,
   "metadata": {
    "collapsed": true
   },
   "outputs": [],
   "source": [
    "class Element(object):\n",
    "    def __init__(self, value):\n",
    "        self.value = value\n",
    "        self.next = None\n",
    "            \n",
    "class LinkedList(object):\n",
    "    def __init__(self, head=None):\n",
    "        self.head = head\n",
    "        \n",
    "    def append(self, new_element):\n",
    "        current = self.head\n",
    "        if self.head:\n",
    "            while current.next:\n",
    "                current = current.next\n",
    "            current.next = new_element\n",
    "        else:\n",
    "            self.head = new_element\n",
    "            \n",
    "    def get_position(self, position):\n",
    "        counter = 1\n",
    "        current = self.head\n",
    "        if position < 1:\n",
    "            return None\n",
    "        while current and counter <= position:\n",
    "            if counter == position:\n",
    "                return current\n",
    "            current = current.next\n",
    "            counter += 1\n",
    "        return None\n",
    "\n",
    "    def count_element(self):\n",
    "        temp = self.head\n",
    "        count = 0\n",
    "        \n",
    "        while(temp):\n",
    "            count += 1\n",
    "            temp = temp.next\n",
    "            \n",
    "        return count\n",
    "        "
   ]
  },
  {
   "cell_type": "code",
   "execution_count": 364,
   "metadata": {
    "collapsed": true
   },
   "outputs": [],
   "source": [
    "def question5(ll,m): \n",
    "    len = ll.count_element()\n",
    "    counter = 1\n",
    "    current = ll.head\n",
    "    \n",
    "    if m < 1 or m > len:\n",
    "        return None\n",
    "    \n",
    "    else:\n",
    "        while current and counter <= len:\n",
    "            if counter == m:\n",
    "                return ll.get_position(len-m+1).value\n",
    "            current = current.next\n",
    "            counter += 1\n",
    "        \n",
    "        return None"
   ]
  },
  {
   "cell_type": "code",
   "execution_count": 365,
   "metadata": {
    "collapsed": true
   },
   "outputs": [],
   "source": [
    "# Example LinkedList:\n",
    "## Set up some Elements\n",
    "e1 = Element(1)\n",
    "e2 = Element(2)\n",
    "e3 = Element(3)\n",
    "e4 = Element(4)\n",
    "e5 = Element(5)\n",
    "\n",
    "## Set up a LinkedList\n",
    "ll = LinkedList(e1)\n",
    "ll.append(e2)\n",
    "ll.append(e3)\n",
    "ll.append(e4)\n",
    "ll.append(e5)\n"
   ]
  },
  {
   "cell_type": "code",
   "execution_count": 367,
   "metadata": {},
   "outputs": [
    {
     "name": "stdout",
     "output_type": "stream",
     "text": [
      "5\n",
      "expected results: 5\n",
      "None\n",
      "expected results: None\n",
      "2\n",
      "expected results: 2\n"
     ]
    }
   ],
   "source": [
    "# Test cases:\n",
    "print question5(ll,1)\n",
    "print question5(ll,0)\n",
    "print question5(ll,4)\n",
    "\n",
    "# Expected results:\n",
    "## 5\n",
    "## None\n",
    "## 2"
   ]
  },
  {
   "cell_type": "markdown",
   "metadata": {},
   "source": [
    "For this question, I first built a LinkedList. Then, I defined question5 function to find the element in a singly linked list that's m elements from the end. The efficiency of my solution is O(n). The space is O(1)."
   ]
  }
 ],
 "metadata": {
  "kernelspec": {
   "display_name": "Python 2",
   "language": "python",
   "name": "python2"
  },
  "language_info": {
   "codemirror_mode": {
    "name": "ipython",
    "version": 2
   },
   "file_extension": ".py",
   "mimetype": "text/x-python",
   "name": "python",
   "nbconvert_exporter": "python",
   "pygments_lexer": "ipython2",
   "version": "2.7.13"
  }
 },
 "nbformat": 4,
 "nbformat_minor": 2
}
